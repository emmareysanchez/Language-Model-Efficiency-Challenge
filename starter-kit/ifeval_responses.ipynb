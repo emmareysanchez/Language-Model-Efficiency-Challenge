{
 "cells": [
  {
   "cell_type": "code",
   "execution_count": 71,
   "metadata": {},
   "outputs": [],
   "source": [
    "from transformers import AutoTokenizer, AutoModelForCausalLM\n",
    "from datasets import load_dataset\n",
    "import torch\n",
    "import json\n",
    "from tqdm import tqdm\n",
    "from huggingface_hub import snapshot_download\n",
    "from pathlib import Path\n",
    "import pandas as pd\n",
    "import os\n",
    "from sklearn.model_selection import train_test_split"
   ]
  },
  {
   "cell_type": "code",
   "execution_count": 4,
   "metadata": {},
   "outputs": [
    {
     "data": {
      "application/vnd.jupyter.widget-view+json": {
       "model_id": "394e2ee981914b428ccf92ac6fd15cc7",
       "version_major": 2,
       "version_minor": 0
      },
      "text/plain": [
       "Downloading shards:   0%|          | 0/3 [00:00<?, ?it/s]"
      ]
     },
     "metadata": {},
     "output_type": "display_data"
    },
    {
     "data": {
      "application/vnd.jupyter.widget-view+json": {
       "model_id": "4a73d323c1e04ee782be2a6467273c36",
       "version_major": 2,
       "version_minor": 0
      },
      "text/plain": [
       "model-00001-of-00003.safetensors:  37%|###6      | 1.82G/4.95G [00:00<?, ?B/s]"
      ]
     },
     "metadata": {},
     "output_type": "display_data"
    },
    {
     "data": {
      "application/vnd.jupyter.widget-view+json": {
       "model_id": "fb668c9d9f1640bf8758dce6a864ca1f",
       "version_major": 2,
       "version_minor": 0
      },
      "text/plain": [
       "model-00002-of-00003.safetensors:   0%|          | 0.00/5.00G [00:00<?, ?B/s]"
      ]
     },
     "metadata": {},
     "output_type": "display_data"
    },
    {
     "data": {
      "application/vnd.jupyter.widget-view+json": {
       "model_id": "864ba2fa029e413fb90c7af17008564d",
       "version_major": 2,
       "version_minor": 0
      },
      "text/plain": [
       "model-00003-of-00003.safetensors:   0%|          | 0.00/4.55G [00:00<?, ?B/s]"
      ]
     },
     "metadata": {},
     "output_type": "display_data"
    },
    {
     "data": {
      "application/vnd.jupyter.widget-view+json": {
       "model_id": "4eea548acb83465f82c3b34906481929",
       "version_major": 2,
       "version_minor": 0
      },
      "text/plain": [
       "Loading checkpoint shards:   0%|          | 0/3 [00:00<?, ?it/s]"
      ]
     },
     "metadata": {},
     "output_type": "display_data"
    },
    {
     "data": {
      "application/vnd.jupyter.widget-view+json": {
       "model_id": "6e8fc7010de341b495c3c6e731b4c576",
       "version_major": 2,
       "version_minor": 0
      },
      "text/plain": [
       "generation_config.json:   0%|          | 0.00/116 [00:00<?, ?B/s]"
      ]
     },
     "metadata": {},
     "output_type": "display_data"
    }
   ],
   "source": [
    "# Step 1: Load the tokenizer and model with quantization\n",
    "model_name = \"mistralai/Mistral-7B-v0.3\"\n",
    "device = torch.device('cuda' if torch.cuda.is_available() else 'cpu')\n",
    "tokenizer = AutoTokenizer.from_pretrained(model_name, trust_remote_code=True)\n",
    "model = AutoModelForCausalLM.from_pretrained(\n",
    "    model_name,\n",
    "    device_map=device,\n",
    "    trust_remote_code=True\n",
    ")"
   ]
  },
  {
   "cell_type": "code",
   "execution_count": 69,
   "metadata": {},
   "outputs": [],
   "source": [
    "# Step 2: Create the new directories\n",
    "def setup_directories():\n",
    "    os.makedirs(\"data/lima\", exist_ok=True)\n",
    "    os.makedirs(\"data/oasst1\", exist_ok=True)\n",
    "\n",
    "setup_directories()"
   ]
  },
  {
   "cell_type": "code",
   "execution_count": 72,
   "metadata": {},
   "outputs": [],
   "source": [
    "# Step 2: Load and process LIMA dataset\n",
    "\n",
    "# Load LIMA dataset\n",
    "dataset_lima = load_dataset(\"GAIR/lima\")[\"train\"]\n",
    "\n",
    "# Process LIMA dataset\n",
    "def process_lima(dataset):\n",
    "    processed_records = []\n",
    "    for record in dataset:\n",
    "        prompt = record[\"conversations\"][0]\n",
    "        response = record[\"conversations\"][1]\n",
    "        processed_records.append({\"prompt\": prompt, \"response\": response})\n",
    "    return pd.DataFrame(processed_records)\n",
    "\n",
    "# Split and save the dataset\n",
    "def split_and_save_lima(df, output_dir):\n",
    "    train, temp = train_test_split(df, test_size=0.2, random_state=42)\n",
    "    val, test = train_test_split(temp, test_size=0.5, random_state=42)\n",
    "    \n",
    "    train.to_json(os.path.join(output_dir, \"lima_processed_train.json\"), orient=\"records\", lines=True, force_ascii=False)\n",
    "    val.to_json(os.path.join(output_dir, \"lima_processed_val.json\"), orient=\"records\", lines=True, force_ascii=False)\n",
    "    test.to_json(os.path.join(output_dir, \"lima_processed_test.json\"), orient=\"records\", lines=True, force_ascii=False)\n",
    "\n",
    "# Process and save LIMA dataset\n",
    "lima_df = process_lima(dataset_lima)\n",
    "split_and_save_lima(lima_df, \"data/lima\")"
   ]
  },
  {
   "cell_type": "code",
   "execution_count": 73,
   "metadata": {},
   "outputs": [],
   "source": [
    "# Step 3: Load and process OpenAssistant Conversations Dataset\n",
    "# Define file paths\n",
    "splits = {\n",
    "    'train': 'data/train-00000-of-00001-b42a775f407cee45.parquet', \n",
    "    'validation': 'data/validation-00000-of-00001-134b8fd0c89408b6.parquet'\n",
    "}\n",
    "\n",
    "# Function to process and save the dataset\n",
    "def process_and_save_oasst1(split, output_file):\n",
    "    # Load the dataset\n",
    "    df = pd.read_parquet(\"hf://datasets/OpenAssistant/oasst1/\" + split)\n",
    "    # Filter for assistant messages and select relevant columns\n",
    "    cleaned_df = df[df[\"role\"] == \"assistant\"][[\"message_id\", \"parent_id\", \"text\"]].copy()\n",
    "    # Rename the text column to response\n",
    "    cleaned_df.rename(columns={\"text\": \"response\"}, inplace=True)\n",
    "    # Add a new column with the prompt for each assistant message\n",
    "    cleaned_df[\"prompt\"] = cleaned_df[\"parent_id\"].apply(\n",
    "        lambda x: df[df[\"message_id\"] == x][\"text\"].values[0]\n",
    "        if x in df[\"message_id\"].values else None\n",
    "    )\n",
    "    # Remove rows with missing prompts\n",
    "    cleaned_df.dropna(subset=[\"prompt\"], inplace=True)\n",
    "    # Remove the message_id and parent_id columns\n",
    "    cleaned_df.drop(columns=[\"message_id\", \"parent_id\"], inplace=True)\n",
    "    # Reset the index\n",
    "    cleaned_df.reset_index(drop=True, inplace=True)\n",
    "    # Save to JSON\n",
    "    cleaned_df.to_json(output_file, orient=\"records\", lines=False, force_ascii=False, indent=4)\n",
    "\n",
    "# Apply the function to the dataset\n",
    "process_and_save_oasst1(splits[\"train\"], \"data/oasst1/oasst1_processed_train.json\")\n",
    "process_and_save_oasst1(splits[\"validation\"], \"data/oasst1/oasst1_processed_test.json\")"
   ]
  },
  {
   "cell_type": "code",
   "execution_count": 17,
   "metadata": {},
   "outputs": [
    {
     "name": "stderr",
     "output_type": "stream",
     "text": [
      "  0%|          | 0/1030 [00:00<?, ?it/s]\n"
     ]
    },
    {
     "ename": "KeyError",
     "evalue": "'prompt'",
     "output_type": "error",
     "traceback": [
      "\u001b[0;31m---------------------------------------------------------------------------\u001b[0m",
      "\u001b[0;31mKeyError\u001b[0m                                  Traceback (most recent call last)",
      "Cell \u001b[0;32mIn[17], line 5\u001b[0m\n\u001b[1;32m      3\u001b[0m \u001b[38;5;28;01mwith\u001b[39;00m \u001b[38;5;28mopen\u001b[39m(output_file, \u001b[38;5;124m'\u001b[39m\u001b[38;5;124mw\u001b[39m\u001b[38;5;124m'\u001b[39m, encoding\u001b[38;5;241m=\u001b[39m\u001b[38;5;124m'\u001b[39m\u001b[38;5;124mutf-8\u001b[39m\u001b[38;5;124m'\u001b[39m) \u001b[38;5;28;01mas\u001b[39;00m f_out:\n\u001b[1;32m      4\u001b[0m     \u001b[38;5;28;01mfor\u001b[39;00m sample \u001b[38;5;129;01min\u001b[39;00m tqdm(dataset[\u001b[38;5;124m'\u001b[39m\u001b[38;5;124mtrain\u001b[39m\u001b[38;5;124m'\u001b[39m]):   \u001b[38;5;66;03m# Use 'validation' or 'train' split if 'test' is not available\u001b[39;00m\n\u001b[0;32m----> 5\u001b[0m         input_text \u001b[38;5;241m=\u001b[39m \u001b[43msample\u001b[49m\u001b[43m[\u001b[49m\u001b[38;5;124;43m'\u001b[39;49m\u001b[38;5;124;43mprompt\u001b[39;49m\u001b[38;5;124;43m'\u001b[39;49m\u001b[43m]\u001b[49m  \u001b[38;5;66;03m# Adjust the field name based on the dataset's structure\u001b[39;00m\n\u001b[1;32m      7\u001b[0m         \u001b[38;5;66;03m# Prepare the input prompt\u001b[39;00m\n\u001b[1;32m      8\u001b[0m         prompt \u001b[38;5;241m=\u001b[39m input_text\n",
      "\u001b[0;31mKeyError\u001b[0m: 'prompt'"
     ]
    }
   ],
   "source": [
    "# Step 3: Generate predictions on the dataset\n",
    "output_file = \"model_responses.json\"\n",
    "with open(output_file, 'w', encoding='utf-8') as f_out:\n",
    "    for sample in tqdm(dataset['train']):   # Use 'validation' or 'train' split if 'test' is not available\n",
    "        input_text = sample['prompt']  # Adjust the field name based on the dataset's structure\n",
    "\n",
    "        # Prepare the input prompt\n",
    "        prompt = input_text\n",
    "\n",
    "        # Tokenize input\n",
    "        inputs = tokenizer.encode(prompt, return_tensors=\"pt\").to(device)\n",
    "\n",
    "        # Generate output\n",
    "        outputs = model.generate(\n",
    "            inputs,\n",
    "            max_length=256,\n",
    "            eos_token_id=tokenizer.eos_token_id,\n",
    "        )\n",
    "\n",
    "        # Decode output\n",
    "        generated_text = tokenizer.decode(outputs[0], skip_special_tokens=True)\n",
    "\n",
    "        # Since the model may include the prompt in its output, we extract the generated response\n",
    "        response = generated_text[len(prompt):]\n",
    "\n",
    "        # Prepare the JSON object\n",
    "        json_obj = {\n",
    "            \"prompt\": prompt,\n",
    "            \"response\": response\n",
    "        }\n",
    "\n",
    "        # Write the JSON object to file\n",
    "        f_out.write(json.dumps(json_obj) + '\\n')"
   ]
  },
  {
   "cell_type": "code",
   "execution_count": null,
   "metadata": {},
   "outputs": [],
   "source": [
    "\n",
    "\n",
    "def convert_to_common_format(dataset, source):\n",
    "    formatted_data = []\n",
    "    for record in dataset:\n",
    "        if source == \"OASST1\":\n",
    "            prompt = \"\\n\".join([f\"{turn['role'].capitalize()}: {turn['text']}\" for turn in record[\"turns\"][:-1]])\n",
    "            response = record[\"turns\"][-1][\"text\"]\n",
    "        elif source == \"LIMA\":\n",
    "            prompt = record[\"conversations\"][0]\n",
    "            response = record[\"conversations\"][1]\n",
    "        formatted_data.append({\"prompt\": prompt, \"response\": response})\n",
    "    return formatted_data\n",
    "\n",
    "def process_oasst1(record):\n",
    "    \n",
    "\n",
    "\n",
    "\n",
    "\n",
    "\n",
    "\n"
   ]
  },
  {
   "cell_type": "code",
   "execution_count": null,
   "metadata": {},
   "outputs": [],
   "source": [
    "import pandas as pd\n",
    "\n",
    "# Cargar el archivo (asumiendo que está en formato CSV o JSON)\n",
    "# Reemplaza con la ruta correcta al dataset estructurado\n",
    "data = pd.read_csv(\"oasst_dataset.csv\")  # Cambia a `pd.read_json` si el archivo es JSON\n",
    "\n",
    "# Filtrar solo las filas que son de interés\n",
    "filtered_data = data[data['role'].isin(['prompter', 'assistant'])]\n",
    "\n",
    "# Crear pares prompt-response\n",
    "pairs = []\n",
    "current_prompt = None\n",
    "\n",
    "for _, row in filtered_data.iterrows():\n",
    "    if row['role'] == 'prompter':\n",
    "        # Guardar el prompt actual\n",
    "        current_prompt = row['text']\n",
    "    elif row['role'] == 'assistant' and current_prompt:\n",
    "        # Crear un par de prompt y respuesta\n",
    "        pairs.append({\n",
    "            \"prompt\": current_prompt,\n",
    "            \"response\": row['text']\n",
    "        })\n",
    "        current_prompt = None  # Resetear el prompt actual después de encontrar la respuesta\n",
    "\n",
    "# Convertir los pares a un DataFrame\n",
    "pairs_df = pd.DataFrame(pairs)\n",
    "\n",
    "# Guardar el dataset procesado\n",
    "pairs_df.to_csv(\"processed_oasst_dataset.csv\", index=False)\n"
   ]
  }
 ],
 "metadata": {
  "kernelspec": {
   "display_name": "Python 3",
   "language": "python",
   "name": "python3"
  },
  "language_info": {
   "codemirror_mode": {
    "name": "ipython",
    "version": 3
   },
   "file_extension": ".py",
   "mimetype": "text/x-python",
   "name": "python",
   "nbconvert_exporter": "python",
   "pygments_lexer": "ipython3",
   "version": "3.10.8"
  }
 },
 "nbformat": 4,
 "nbformat_minor": 2
}
